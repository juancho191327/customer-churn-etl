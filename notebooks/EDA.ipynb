{
 "cells": [
  {
   "cell_type": "markdown",
   "id": "df738d3b-ba9b-430f-9ca7-a5d00e6188f6",
   "metadata": {},
   "source": [
    "# EDA"
   ]
  },
  {
   "cell_type": "markdown",
   "id": "bd100269-17f4-4057-bfe5-3bbb476525fc",
   "metadata": {},
   "source": [
    "### Importación de librerías\n",
    "Se importan las librerías necesarias para la manipulación de datos, visualización y conexión con MySQL."
   ]
  },
  {
   "cell_type": "code",
   "execution_count": 2,
   "id": "39660c73-5b8b-4325-ba59-d3eb61b039d0",
   "metadata": {},
   "outputs": [],
   "source": [
    "import os\n",
    "import pandas as pd\n",
    "import mysql.connector\n",
    "import seaborn as sns\n",
    "import matplotlib.pyplot as plt\n",
    "from dotenv import load_dotenv"
   ]
  },
  {
   "cell_type": "markdown",
   "id": "cb7f9585-c143-4255-a6c3-5e4c1c252949",
   "metadata": {},
   "source": [
    "### Carga de variables de entorno\n",
    "Se cargan las credenciales de conexión a la base de datos desde un archivo de entorno (`.env`)."
   ]
  },
  {
   "cell_type": "code",
   "execution_count": 3,
   "id": "dbf73064-40c2-4dcc-bd39-cebec737a7da",
   "metadata": {},
   "outputs": [],
   "source": [
    "# Cargar variables de entorno\n",
    "load_dotenv()\n",
    "\n",
    "# Configuración de credenciales de MySQL\n",
    "DB_HOST = os.getenv(\"DB_HOST\")\n",
    "DB_USER = os.getenv(\"DB_USER\")\n",
    "DB_PASSWORD = os.getenv(\"DB_PASSWORD\")\n",
    "DB_NAME = os.getenv(\"DB_NAME\")\n"
   ]
  },
  {
   "cell_type": "markdown",
   "id": "c8531449-ee43-46f1-ab92-26d04f6cf122",
   "metadata": {},
   "source": [
    "### Extracción de datos desde MySQL\n",
    "Se define una función para conectarse a la base de datos MySQL y extraer los datos de la tabla `customer_churn_extract`."
   ]
  },
  {
   "cell_type": "code",
   "execution_count": 4,
   "id": "4ee0ae95-cd41-492c-8c91-4001641aaa85",
   "metadata": {},
   "outputs": [
    {
     "name": "stderr",
     "output_type": "stream",
     "text": [
      "C:\\Users\\juanm\\AppData\\Local\\Temp\\ipykernel_38940\\2370940405.py:11: UserWarning: pandas only supports SQLAlchemy connectable (engine/connection) or database string URI or sqlite3 DBAPI2 connection. Other DBAPI2 objects are not tested. Please consider using SQLAlchemy.\n",
      "  df = pd.read_sql(query, conn)\n"
     ]
    },
    {
     "data": {
      "text/html": [
       "<div>\n",
       "<style scoped>\n",
       "    .dataframe tbody tr th:only-of-type {\n",
       "        vertical-align: middle;\n",
       "    }\n",
       "\n",
       "    .dataframe tbody tr th {\n",
       "        vertical-align: top;\n",
       "    }\n",
       "\n",
       "    .dataframe thead th {\n",
       "        text-align: right;\n",
       "    }\n",
       "</style>\n",
       "<table border=\"1\" class=\"dataframe\">\n",
       "  <thead>\n",
       "    <tr style=\"text-align: right;\">\n",
       "      <th></th>\n",
       "      <th>customerID</th>\n",
       "      <th>gender</th>\n",
       "      <th>SeniorCitizen</th>\n",
       "      <th>Partner</th>\n",
       "      <th>Dependents</th>\n",
       "      <th>tenure</th>\n",
       "      <th>PhoneService</th>\n",
       "      <th>MultipleLines</th>\n",
       "      <th>InternetService</th>\n",
       "      <th>OnlineSecurity</th>\n",
       "      <th>...</th>\n",
       "      <th>DeviceProtection</th>\n",
       "      <th>TechSupport</th>\n",
       "      <th>StreamingTV</th>\n",
       "      <th>StreamingMovies</th>\n",
       "      <th>Contract</th>\n",
       "      <th>PaperlessBilling</th>\n",
       "      <th>PaymentMethod</th>\n",
       "      <th>MonthlyCharges</th>\n",
       "      <th>TotalCharges</th>\n",
       "      <th>Churn</th>\n",
       "    </tr>\n",
       "  </thead>\n",
       "  <tbody>\n",
       "    <tr>\n",
       "      <th>0</th>\n",
       "      <td>0002-ORFBO</td>\n",
       "      <td>Female</td>\n",
       "      <td>0</td>\n",
       "      <td>Yes</td>\n",
       "      <td>Yes</td>\n",
       "      <td>9</td>\n",
       "      <td>Yes</td>\n",
       "      <td>No</td>\n",
       "      <td>DSL</td>\n",
       "      <td>No</td>\n",
       "      <td>...</td>\n",
       "      <td>No</td>\n",
       "      <td>Yes</td>\n",
       "      <td>Yes</td>\n",
       "      <td>No</td>\n",
       "      <td>One year</td>\n",
       "      <td>Yes</td>\n",
       "      <td>Mailed check</td>\n",
       "      <td>65.6</td>\n",
       "      <td>593.30</td>\n",
       "      <td>No</td>\n",
       "    </tr>\n",
       "    <tr>\n",
       "      <th>1</th>\n",
       "      <td>0003-MKNFE</td>\n",
       "      <td>Male</td>\n",
       "      <td>0</td>\n",
       "      <td>No</td>\n",
       "      <td>No</td>\n",
       "      <td>9</td>\n",
       "      <td>Yes</td>\n",
       "      <td>Yes</td>\n",
       "      <td>DSL</td>\n",
       "      <td>No</td>\n",
       "      <td>...</td>\n",
       "      <td>No</td>\n",
       "      <td>No</td>\n",
       "      <td>No</td>\n",
       "      <td>Yes</td>\n",
       "      <td>Month-to-month</td>\n",
       "      <td>No</td>\n",
       "      <td>Mailed check</td>\n",
       "      <td>59.9</td>\n",
       "      <td>542.40</td>\n",
       "      <td>No</td>\n",
       "    </tr>\n",
       "    <tr>\n",
       "      <th>2</th>\n",
       "      <td>0004-TLHLJ</td>\n",
       "      <td>Male</td>\n",
       "      <td>0</td>\n",
       "      <td>No</td>\n",
       "      <td>No</td>\n",
       "      <td>4</td>\n",
       "      <td>Yes</td>\n",
       "      <td>No</td>\n",
       "      <td>Fiber optic</td>\n",
       "      <td>No</td>\n",
       "      <td>...</td>\n",
       "      <td>Yes</td>\n",
       "      <td>No</td>\n",
       "      <td>No</td>\n",
       "      <td>No</td>\n",
       "      <td>Month-to-month</td>\n",
       "      <td>Yes</td>\n",
       "      <td>Electronic check</td>\n",
       "      <td>73.9</td>\n",
       "      <td>280.85</td>\n",
       "      <td>Yes</td>\n",
       "    </tr>\n",
       "    <tr>\n",
       "      <th>3</th>\n",
       "      <td>0011-IGKFF</td>\n",
       "      <td>Male</td>\n",
       "      <td>1</td>\n",
       "      <td>Yes</td>\n",
       "      <td>No</td>\n",
       "      <td>13</td>\n",
       "      <td>Yes</td>\n",
       "      <td>No</td>\n",
       "      <td>Fiber optic</td>\n",
       "      <td>No</td>\n",
       "      <td>...</td>\n",
       "      <td>Yes</td>\n",
       "      <td>No</td>\n",
       "      <td>Yes</td>\n",
       "      <td>Yes</td>\n",
       "      <td>Month-to-month</td>\n",
       "      <td>Yes</td>\n",
       "      <td>Electronic check</td>\n",
       "      <td>98.0</td>\n",
       "      <td>1237.85</td>\n",
       "      <td>Yes</td>\n",
       "    </tr>\n",
       "    <tr>\n",
       "      <th>4</th>\n",
       "      <td>0013-EXCHZ</td>\n",
       "      <td>Female</td>\n",
       "      <td>1</td>\n",
       "      <td>Yes</td>\n",
       "      <td>No</td>\n",
       "      <td>3</td>\n",
       "      <td>Yes</td>\n",
       "      <td>No</td>\n",
       "      <td>Fiber optic</td>\n",
       "      <td>No</td>\n",
       "      <td>...</td>\n",
       "      <td>No</td>\n",
       "      <td>Yes</td>\n",
       "      <td>Yes</td>\n",
       "      <td>No</td>\n",
       "      <td>Month-to-month</td>\n",
       "      <td>Yes</td>\n",
       "      <td>Mailed check</td>\n",
       "      <td>83.9</td>\n",
       "      <td>267.40</td>\n",
       "      <td>Yes</td>\n",
       "    </tr>\n",
       "  </tbody>\n",
       "</table>\n",
       "<p>5 rows × 21 columns</p>\n",
       "</div>"
      ],
      "text/plain": [
       "   customerID  gender  SeniorCitizen Partner Dependents  tenure PhoneService  \\\n",
       "0  0002-ORFBO  Female              0     Yes        Yes       9          Yes   \n",
       "1  0003-MKNFE    Male              0      No         No       9          Yes   \n",
       "2  0004-TLHLJ    Male              0      No         No       4          Yes   \n",
       "3  0011-IGKFF    Male              1     Yes         No      13          Yes   \n",
       "4  0013-EXCHZ  Female              1     Yes         No       3          Yes   \n",
       "\n",
       "  MultipleLines InternetService OnlineSecurity  ... DeviceProtection  \\\n",
       "0            No             DSL             No  ...               No   \n",
       "1           Yes             DSL             No  ...               No   \n",
       "2            No     Fiber optic             No  ...              Yes   \n",
       "3            No     Fiber optic             No  ...              Yes   \n",
       "4            No     Fiber optic             No  ...               No   \n",
       "\n",
       "  TechSupport StreamingTV StreamingMovies        Contract PaperlessBilling  \\\n",
       "0         Yes         Yes              No        One year              Yes   \n",
       "1          No          No             Yes  Month-to-month               No   \n",
       "2          No          No              No  Month-to-month              Yes   \n",
       "3          No         Yes             Yes  Month-to-month              Yes   \n",
       "4         Yes         Yes              No  Month-to-month              Yes   \n",
       "\n",
       "      PaymentMethod MonthlyCharges  TotalCharges  Churn  \n",
       "0      Mailed check           65.6        593.30     No  \n",
       "1      Mailed check           59.9        542.40     No  \n",
       "2  Electronic check           73.9        280.85    Yes  \n",
       "3  Electronic check           98.0       1237.85    Yes  \n",
       "4      Mailed check           83.9        267.40    Yes  \n",
       "\n",
       "[5 rows x 21 columns]"
      ]
     },
     "execution_count": 4,
     "metadata": {},
     "output_type": "execute_result"
    }
   ],
   "source": [
    "# Función para extraer datos desde MySQL\n",
    "def fetch_data():\n",
    "    \"\"\"Extrae los datos desde la base de datos MySQL.\"\"\"\n",
    "    conn = mysql.connector.connect(\n",
    "        host=DB_HOST,\n",
    "        user=DB_USER,\n",
    "        password=DB_PASSWORD,\n",
    "        database=DB_NAME\n",
    "    )\n",
    "    query = \"SELECT * FROM customer_churn_extract;\"\n",
    "    df = pd.read_sql(query, conn)\n",
    "    conn.close()\n",
    "    return df\n",
    "\n",
    "# Extraer datos\n",
    "df = fetch_data()\n",
    "\n",
    "# Vista previa de los datos\n",
    "df.head()"
   ]
  },
  {
   "cell_type": "markdown",
   "id": "685812ae-b0a7-41ea-86fe-ab98f01eef5b",
   "metadata": {},
   "source": [
    "### Información general del dataset\n",
    "Se revisa la cantidad de valores nulos, el tipo de datos de cada columna y el tamaño del dataset."
   ]
  },
  {
   "cell_type": "code",
   "execution_count": 5,
   "id": "50613e5c-c3ca-400f-b91f-4e8d0eaa75c5",
   "metadata": {},
   "outputs": [
    {
     "name": "stdout",
     "output_type": "stream",
     "text": [
      "<class 'pandas.core.frame.DataFrame'>\n",
      "RangeIndex: 12043 entries, 0 to 12042\n",
      "Data columns (total 21 columns):\n",
      " #   Column            Non-Null Count  Dtype  \n",
      "---  ------            --------------  -----  \n",
      " 0   customerID        12043 non-null  object \n",
      " 1   gender            12043 non-null  object \n",
      " 2   SeniorCitizen     12043 non-null  int64  \n",
      " 3   Partner           12043 non-null  object \n",
      " 4   Dependents        12043 non-null  object \n",
      " 5   tenure            12043 non-null  int64  \n",
      " 6   PhoneService      12043 non-null  object \n",
      " 7   MultipleLines     12043 non-null  object \n",
      " 8   InternetService   12043 non-null  object \n",
      " 9   OnlineSecurity    12043 non-null  object \n",
      " 10  OnlineBackup      12043 non-null  object \n",
      " 11  DeviceProtection  12043 non-null  object \n",
      " 12  TechSupport       12043 non-null  object \n",
      " 13  StreamingTV       12043 non-null  object \n",
      " 14  StreamingMovies   12043 non-null  object \n",
      " 15  Contract          12043 non-null  object \n",
      " 16  PaperlessBilling  12043 non-null  object \n",
      " 17  PaymentMethod     12043 non-null  object \n",
      " 18  MonthlyCharges    12043 non-null  float64\n",
      " 19  TotalCharges      12032 non-null  float64\n",
      " 20  Churn             12043 non-null  object \n",
      "dtypes: float64(2), int64(2), object(17)\n",
      "memory usage: 1.9+ MB\n"
     ]
    }
   ],
   "source": [
    "df.info()"
   ]
  },
  {
   "cell_type": "code",
   "execution_count": 6,
   "id": "10bb5fa7-9a2d-4cb7-b65d-bd7a61e8411b",
   "metadata": {},
   "outputs": [
    {
     "data": {
      "text/plain": [
       "customerID           0\n",
       "gender               0\n",
       "SeniorCitizen        0\n",
       "Partner              0\n",
       "Dependents           0\n",
       "tenure               0\n",
       "PhoneService         0\n",
       "MultipleLines        0\n",
       "InternetService      0\n",
       "OnlineSecurity       0\n",
       "OnlineBackup         0\n",
       "DeviceProtection     0\n",
       "TechSupport          0\n",
       "StreamingTV          0\n",
       "StreamingMovies      0\n",
       "Contract             0\n",
       "PaperlessBilling     0\n",
       "PaymentMethod        0\n",
       "MonthlyCharges       0\n",
       "TotalCharges        11\n",
       "Churn                0\n",
       "dtype: int64"
      ]
     },
     "execution_count": 6,
     "metadata": {},
     "output_type": "execute_result"
    }
   ],
   "source": [
    "df.isnull().sum()"
   ]
  },
  {
   "cell_type": "code",
   "execution_count": 7,
   "id": "6ecd4aa1-b4f4-472c-91e6-3d175dd00d3b",
   "metadata": {},
   "outputs": [
    {
     "data": {
      "text/html": [
       "<div>\n",
       "<style scoped>\n",
       "    .dataframe tbody tr th:only-of-type {\n",
       "        vertical-align: middle;\n",
       "    }\n",
       "\n",
       "    .dataframe tbody tr th {\n",
       "        vertical-align: top;\n",
       "    }\n",
       "\n",
       "    .dataframe thead th {\n",
       "        text-align: right;\n",
       "    }\n",
       "</style>\n",
       "<table border=\"1\" class=\"dataframe\">\n",
       "  <thead>\n",
       "    <tr style=\"text-align: right;\">\n",
       "      <th></th>\n",
       "      <th>SeniorCitizen</th>\n",
       "      <th>tenure</th>\n",
       "      <th>MonthlyCharges</th>\n",
       "      <th>TotalCharges</th>\n",
       "    </tr>\n",
       "  </thead>\n",
       "  <tbody>\n",
       "    <tr>\n",
       "      <th>count</th>\n",
       "      <td>12043.000000</td>\n",
       "      <td>12043.000000</td>\n",
       "      <td>12043.000000</td>\n",
       "      <td>12032.000000</td>\n",
       "    </tr>\n",
       "    <tr>\n",
       "      <th>mean</th>\n",
       "      <td>0.306817</td>\n",
       "      <td>34.265382</td>\n",
       "      <td>66.594166</td>\n",
       "      <td>2976.895548</td>\n",
       "    </tr>\n",
       "    <tr>\n",
       "      <th>std</th>\n",
       "      <td>0.461192</td>\n",
       "      <td>23.152932</td>\n",
       "      <td>29.527709</td>\n",
       "      <td>2442.548608</td>\n",
       "    </tr>\n",
       "    <tr>\n",
       "      <th>min</th>\n",
       "      <td>0.000000</td>\n",
       "      <td>0.000000</td>\n",
       "      <td>18.250000</td>\n",
       "      <td>18.800000</td>\n",
       "    </tr>\n",
       "    <tr>\n",
       "      <th>25%</th>\n",
       "      <td>0.000000</td>\n",
       "      <td>13.000000</td>\n",
       "      <td>41.935000</td>\n",
       "      <td>770.575000</td>\n",
       "    </tr>\n",
       "    <tr>\n",
       "      <th>50%</th>\n",
       "      <td>0.000000</td>\n",
       "      <td>33.000000</td>\n",
       "      <td>70.050000</td>\n",
       "      <td>2369.175000</td>\n",
       "    </tr>\n",
       "    <tr>\n",
       "      <th>75%</th>\n",
       "      <td>1.000000</td>\n",
       "      <td>55.000000</td>\n",
       "      <td>90.800000</td>\n",
       "      <td>4992.835000</td>\n",
       "    </tr>\n",
       "    <tr>\n",
       "      <th>max</th>\n",
       "      <td>1.000000</td>\n",
       "      <td>72.000000</td>\n",
       "      <td>119.990000</td>\n",
       "      <td>8684.800000</td>\n",
       "    </tr>\n",
       "  </tbody>\n",
       "</table>\n",
       "</div>"
      ],
      "text/plain": [
       "       SeniorCitizen        tenure  MonthlyCharges  TotalCharges\n",
       "count   12043.000000  12043.000000    12043.000000  12032.000000\n",
       "mean        0.306817     34.265382       66.594166   2976.895548\n",
       "std         0.461192     23.152932       29.527709   2442.548608\n",
       "min         0.000000      0.000000       18.250000     18.800000\n",
       "25%         0.000000     13.000000       41.935000    770.575000\n",
       "50%         0.000000     33.000000       70.050000   2369.175000\n",
       "75%         1.000000     55.000000       90.800000   4992.835000\n",
       "max         1.000000     72.000000      119.990000   8684.800000"
      ]
     },
     "execution_count": 7,
     "metadata": {},
     "output_type": "execute_result"
    }
   ],
   "source": [
    "df.describe()"
   ]
  },
  {
   "cell_type": "code",
   "execution_count": 8,
   "id": "d3c6c875-18cd-49b9-987f-6d2193ed6bd6",
   "metadata": {},
   "outputs": [
    {
     "name": "stderr",
     "output_type": "stream",
     "text": [
      "C:\\Users\\juanm\\AppData\\Local\\Temp\\ipykernel_38940\\4218149215.py:1: FutureWarning: \n",
      "\n",
      "Passing `palette` without assigning `hue` is deprecated and will be removed in v0.14.0. Assign the `x` variable to `hue` and set `legend=False` for the same effect.\n",
      "\n",
      "  sns.countplot(x=df['Churn'], palette=\"pastel\")\n"
     ]
    },
    {
     "data": {
      "image/png": "[encoded data removed]",
      "text/plain": [
       "<Figure size 640x480 with 1 Axes>"
      ]
     },
     "metadata": {},
     "output_type": "display_data"
    }
   ],
   "source": [
    "sns.countplot(x=df['Churn'], palette=\"pastel\")\n",
    "plt.title(\"Distribución de Churn\")\n",
    "plt.show()"
   ]
  },
  {
   "cell_type": "code",
   "execution_count": 9,
   "id": "53dfb348-c34c-4c70-83e2-723f9ecb2bd1",
   "metadata": {},
   "outputs": [
    {
     "data": {
      "image/png": "[encoded data removed]",
      "text/plain": [
       "<Figure size 800x500 with 1 Axes>"
      ]
     },
     "metadata": {},
     "output_type": "display_data"
    }
   ],
   "source": [
    "plt.figure(figsize=(8, 5))\n",
    "sns.histplot(data=df, x=\"tenure\", hue=\"Churn\", kde=True, bins=30)\n",
    "plt.title(\"Distribución de Tenure por Churn\")\n",
    "plt.show()"
   ]
  },
  {
   "cell_type": "code",
   "execution_count": 10,
   "id": "f947b6cb-bd41-43cd-a219-c61ad0bf8968",
   "metadata": {},
   "outputs": [
    {
     "name": "stdout",
     "output_type": "stream",
     "text": [
      "customerID: 12043 valores únicos\n",
      "['0002-ORFBO' '0003-MKNFE' '0004-TLHLJ' ... '9993-LHIEB' '9995-HOTOH'\n",
      " '9997-LJEML']\n",
      "------\n",
      "gender: 2 valores únicos\n",
      "['Female' 'Male']\n",
      "------\n",
      "Partner: 2 valores únicos\n",
      "['Yes' 'No']\n",
      "------\n",
      "Dependents: 2 valores únicos\n",
      "['Yes' 'No']\n",
      "------\n",
      "PhoneService: 2 valores únicos\n",
      "['Yes' 'No']\n",
      "------\n",
      "MultipleLines: 3 valores únicos\n",
      "['No' 'Yes' 'No phone service']\n",
      "------\n",
      "InternetService: 3 valores únicos\n",
      "['DSL' 'Fiber optic' 'No']\n",
      "------\n",
      "OnlineSecurity: 3 valores únicos\n",
      "['No' 'Yes' 'No internet service']\n",
      "------\n",
      "OnlineBackup: 3 valores únicos\n",
      "['Yes' 'No' 'No internet service']\n",
      "------\n",
      "DeviceProtection: 3 valores únicos\n",
      "['No' 'Yes' 'No internet service']\n",
      "------\n",
      "TechSupport: 3 valores únicos\n",
      "['Yes' 'No' 'No internet service']\n",
      "------\n",
      "StreamingTV: 3 valores únicos\n",
      "['Yes' 'No' 'No internet service']\n",
      "------\n",
      "StreamingMovies: 3 valores únicos\n",
      "['No' 'Yes' 'No internet service']\n",
      "------\n",
      "Contract: 3 valores únicos\n",
      "['One year' 'Month-to-month' 'Two year']\n",
      "------\n",
      "PaperlessBilling: 2 valores únicos\n",
      "['Yes' 'No']\n",
      "------\n",
      "PaymentMethod: 4 valores únicos\n",
      "['Mailed check' 'Electronic check' 'Credit card (automatic)'\n",
      " 'Bank transfer (automatic)']\n",
      "------\n",
      "Churn: 2 valores únicos\n",
      "['No' 'Yes']\n",
      "------\n"
     ]
    }
   ],
   "source": [
    "# Revisar valores únicos para cada columna categórica\n",
    "for col in df.select_dtypes(include='object'):\n",
    "    print(f\"{col}: {df[col].nunique()} valores únicos\")\n",
    "    print(df[col].unique())\n",
    "    print(\"------\")"
   ]
  },
  {
   "cell_type": "markdown",
   "id": "b01585a4-c801-450c-bfb4-353542babb96",
   "metadata": {},
   "source": [
    "## Transformaciones"
   ]
  },
  {
   "cell_type": "markdown",
   "id": "48dd59bb-e506-4369-b480-480a9f22b621",
   "metadata": {},
   "source": [
    "### 1. Manejo de valores nulos\n",
    "**Motivo:**\n",
    "Detectamos que **`TotalCharges`** tiene valores nulos. Como es una variable numérica, los rellenamos con la mediana, ya que la media podría verse afectada por valores extremos."
   ]
  },
  {
   "cell_type": "code",
   "execution_count": 11,
   "id": "56f89b5f-17bd-4dae-ad1c-97256ca926df",
   "metadata": {},
   "outputs": [],
   "source": [
    "# Eliminar filas con valores nulos\n",
    "df = df.dropna()"
   ]
  },
  {
   "cell_type": "markdown",
   "id": "765080cb-649c-4298-8709-b555b97ad884",
   "metadata": {},
   "source": [
    "### 2. Conversión de variables categóricas\n",
    "**Motivo:**\n",
    "- One-hot encoding facilita el análisis visual y la integración con dashboards.\n",
    "- Reemplazo de valores binarios mejora la claridad de los datos.\n",
    "- Agrupación de servicios elimina redundancias."
   ]
  },
  {
   "cell_type": "markdown",
   "id": "b20a05a5-5981-4f5d-bb9d-bcbaeebdd718",
   "metadata": {},
   "source": [
    "One-Hot Encoding para:"
   ]
  },
  {
   "cell_type": "code",
   "execution_count": 12,
   "id": "cd67254d-eeba-45f7-adab-98097146dbfe",
   "metadata": {},
   "outputs": [],
   "source": [
    "df = pd.get_dummies(df, columns=[\"Contract\", \"PaymentMethod\", \"InternetService\"], drop_first=True)"
   ]
  },
  {
   "cell_type": "markdown",
   "id": "0a579a48-cb02-4ed1-b428-d8f71a7f56dd",
   "metadata": {},
   "source": [
    "Reemplazo de valores binarios en **`SeniorCitizen`**"
   ]
  },
  {
   "cell_type": "code",
   "execution_count": 13,
   "id": "1cf91be3-fe39-4df9-b5f6-55e8449b111d",
   "metadata": {},
   "outputs": [],
   "source": [
    "df[\"SeniorCitizen\"] = df[\"SeniorCitizen\"].map({0: \"No\", 1: \"Yes\"})"
   ]
  },
  {
   "cell_type": "markdown",
   "id": "c27cd4a5-b78c-486c-8140-ecf58afbb91a",
   "metadata": {},
   "source": [
    "Agrupar \"No internet service\" y \"No phone service\" en \"No\""
   ]
  },
  {
   "cell_type": "code",
   "execution_count": 14,
   "id": "32323071-8f90-4100-bcfb-998816044a18",
   "metadata": {},
   "outputs": [],
   "source": [
    "cols_services = [\"OnlineSecurity\", \"OnlineBackup\", \"DeviceProtection\", \"TechSupport\", \"StreamingTV\", \"StreamingMovies\", \"MultipleLines\"]\n",
    "\n",
    "for col in cols_services:\n",
    "    df[col] = df[col].replace({\"No internet service\": \"No\", \"No phone service\": \"No\"})"
   ]
  },
  {
   "cell_type": "markdown",
   "id": "315a8436-b910-4ca3-9ab7-97e32cbbd55d",
   "metadata": {},
   "source": [
    "Crear columna para contratos largos"
   ]
  },
  {
   "cell_type": "code",
   "execution_count": 15,
   "id": "030c14ef-50fb-4d7c-9382-2dbe0cd62bcf",
   "metadata": {},
   "outputs": [],
   "source": [
    "df[\"LongTermContract\"] = df[\"Contract_One year\"] + df[\"Contract_Two year\"]"
   ]
  },
  {
   "cell_type": "markdown",
   "id": "515c2d82-49d0-4124-b3d1-a3248e53cda1",
   "metadata": {},
   "source": [
    "### 3. Creación de nuevas variables\n",
    "**Motivo:**\n",
    "- Facilitar la visualización de patrones y tendencias en churn.\n",
    "- Crear métricas útiles para análisis."
   ]
  },
  {
   "cell_type": "markdown",
   "id": "591dd54e-4281-4462-a9e0-b76597628bc0",
   "metadata": {},
   "source": [
    "Agrupar **`tenure`** en rangos de permanencia"
   ]
  },
  {
   "cell_type": "code",
   "execution_count": 18,
   "id": "26e328de-f927-4ff6-ab48-4b9a53f7aae7",
   "metadata": {},
   "outputs": [],
   "source": [
    "bins = [0, 12, 24, 48, 72]  # Quitamos el valor duplicado\n",
    "labels = [\"0-12\", \"13-24\", \"25-48\", \"49-72\"]  # Un elemento menos que los bins\n",
    "df[\"tenure_group\"] = pd.cut(df[\"tenure\"], bins=bins, labels=labels, include_lowest=True)"
   ]
  },
  {
   "cell_type": "markdown",
   "id": "a7940cff-103b-4ca2-9a4a-e172e3ccfad7",
   "metadata": {},
   "source": [
    "Crear columna de clientes nuevos (**`isNewCustomer`**)"
   ]
  },
  {
   "cell_type": "code",
   "execution_count": 19,
   "id": "73324f0d-6100-4de3-9863-4ff732caa832",
   "metadata": {},
   "outputs": [
    {
     "name": "stderr",
     "output_type": "stream",
     "text": [
      "C:\\Users\\juanm\\AppData\\Local\\Temp\\ipykernel_38940\\3785503486.py:2: FutureWarning: A value is trying to be set on a copy of a DataFrame or Series through chained assignment using an inplace method.\n",
      "The behavior will change in pandas 3.0. This inplace method will never work because the intermediate object on which we are setting values always behaves as a copy.\n",
      "\n",
      "For example, when doing 'df[col].method(value, inplace=True)', try using 'df.method({col: value}, inplace=True)' or df[col] = df[col].method(value) instead, to perform the operation inplace on the original object.\n",
      "\n",
      "\n",
      "  df[\"AvgMonthlySpend\"].fillna(df[\"MonthlyCharges\"], inplace=True)  # Evitar divisiones por 0\n"
     ]
    }
   ],
   "source": [
    "df[\"AvgMonthlySpend\"] = df[\"TotalCharges\"] / df[\"tenure\"]\n",
    "df[\"AvgMonthlySpend\"] = df[\"AvgMonthlySpend\"].fillna(df[\"MonthlyCharges\"])  # Evitar divisiones por 0"
   ]
  },
  {
   "cell_type": "markdown",
   "id": "c5faa5bb-748f-41a3-b5ac-86464fe39c00",
   "metadata": {},
   "source": [
    "Crear columna de clientes con múltiples servicios (**`MultipleServices`**)"
   ]
  },
  {
   "cell_type": "code",
   "execution_count": 20,
   "id": "f81f14c3-5e9c-4409-beb9-46353e634610",
   "metadata": {},
   "outputs": [],
   "source": [
    "df[\"isNewCustomer\"] = (df[\"tenure\"] < 12).astype(int)"
   ]
  },
  {
   "cell_type": "markdown",
   "id": "fdbe160a-6e32-46c8-950a-0062dc7209c0",
   "metadata": {},
   "source": [
    "Crear columna para detectar clientes con bajo gasto mensual (**`LowSpender`**)"
   ]
  },
  {
   "cell_type": "code",
   "execution_count": 22,
   "id": "c1cd5270-b84e-4ed7-9c4f-c79c2716ebb1",
   "metadata": {},
   "outputs": [],
   "source": [
    "# Convertir las columnas relevantes a valores numéricos antes de la suma\n",
    "df[\"PhoneService\"] = df[\"PhoneService\"].map({\"Yes\": 1, \"No\": 0})\n",
    "df[\"InternetService_Fiber optic\"] = df[\"InternetService_Fiber optic\"].astype(int)  # Si ya está en dummies\n",
    "df[\"StreamingTV\"] = df[\"StreamingTV\"].map({\"Yes\": 1, \"No\": 0, \"No internet service\": 0})\n",
    "df[\"StreamingMovies\"] = df[\"StreamingMovies\"].map({\"Yes\": 1, \"No\": 0, \"No internet service\": 0})\n",
    "\n",
    "# Crear la nueva columna sumando los servicios activos\n",
    "df[\"MultipleServices\"] = df[[\"PhoneService\", \"InternetService_Fiber optic\", \"StreamingTV\", \"StreamingMovies\"]].sum(axis=1)"
   ]
  },
  {
   "cell_type": "markdown",
   "id": "88b5cd0b-120c-4242-aa28-e05f01dfed07",
   "metadata": {},
   "source": [
    "Crear columna de riesgo de churn basado en contrato y pago (**`HighRiskChurn`**)"
   ]
  },
  {
   "cell_type": "code",
   "execution_count": 23,
   "id": "8f99a53c-b842-4d5c-9757-20aea9afc17d",
   "metadata": {},
   "outputs": [],
   "source": [
    "q1 = df[\"MonthlyCharges\"].quantile(0.25)  # Primer cuartil\n",
    "df[\"LowSpender\"] = (df[\"MonthlyCharges\"] <= q1).astype(int)"
   ]
  },
  {
   "cell_type": "code",
   "execution_count": 25,
   "id": "94d7d3c0-b08b-4f31-8a17-c9f6a7e426a4",
   "metadata": {},
   "outputs": [
    {
     "name": "stdout",
     "output_type": "stream",
     "text": [
      "Index(['customerID', 'gender', 'SeniorCitizen', 'Partner', 'Dependents',\n",
      "       'tenure', 'PhoneService', 'MultipleLines', 'OnlineSecurity',\n",
      "       'OnlineBackup', 'DeviceProtection', 'TechSupport', 'StreamingTV',\n",
      "       'StreamingMovies', 'PaperlessBilling', 'MonthlyCharges', 'TotalCharges',\n",
      "       'Churn', 'Contract_One year', 'Contract_Two year',\n",
      "       'PaymentMethod_Credit card (automatic)',\n",
      "       'PaymentMethod_Electronic check', 'PaymentMethod_Mailed check',\n",
      "       'InternetService_Fiber optic', 'InternetService_No', 'LongTermContract',\n",
      "       'tenure_group', 'AvgMonthlySpend', 'isNewCustomer', 'MultipleServices',\n",
      "       'LowSpender'],\n",
      "      dtype='object')\n"
     ]
    }
   ],
   "source": [
    "print(df.columns)  # Verifica si existe \"Contract_Month-to-month\""
   ]
  },
  {
   "cell_type": "code",
   "execution_count": 26,
   "id": "627bde0d-be60-45b4-b562-4cacdd66f5ef",
   "metadata": {},
   "outputs": [],
   "source": [
    "df[\"Contract_Month-to-month\"] = 1 - df[[\"Contract_One year\", \"Contract_Two year\"]].sum(axis=1)"
   ]
  },
  {
   "cell_type": "code",
   "execution_count": 27,
   "id": "a7c5bfc1-318b-4161-a7b7-c7028d335f0e",
   "metadata": {},
   "outputs": [
    {
     "name": "stdout",
     "output_type": "stream",
     "text": [
      "Index(['customerID', 'gender', 'SeniorCitizen', 'Partner', 'Dependents',\n",
      "       'tenure', 'PhoneService', 'MultipleLines', 'OnlineSecurity',\n",
      "       'OnlineBackup', 'DeviceProtection', 'TechSupport', 'StreamingTV',\n",
      "       'StreamingMovies', 'PaperlessBilling', 'MonthlyCharges', 'TotalCharges',\n",
      "       'Churn', 'Contract_One year', 'Contract_Two year',\n",
      "       'PaymentMethod_Credit card (automatic)',\n",
      "       'PaymentMethod_Electronic check', 'PaymentMethod_Mailed check',\n",
      "       'InternetService_Fiber optic', 'InternetService_No', 'LongTermContract',\n",
      "       'tenure_group', 'AvgMonthlySpend', 'isNewCustomer', 'MultipleServices',\n",
      "       'LowSpender', 'Contract_Month-to-month'],\n",
      "      dtype='object')\n"
     ]
    }
   ],
   "source": [
    "print(df.columns)  # Verifica si existe \"Contract_Month-to-month\""
   ]
  },
  {
   "cell_type": "code",
   "execution_count": 28,
   "id": "d6fa2c49-a3ef-49fe-8f7b-739da7dd4df2",
   "metadata": {
    "scrolled": true
   },
   "outputs": [],
   "source": [
    "df[\"HighRiskChurn\"] = ((df[\"Contract_Month-to-month\"] == 1) & (df[\"PaymentMethod_Electronic check\"] == 1)).astype(int)"
   ]
  },
  {
   "cell_type": "markdown",
   "id": "48780b03-2e5d-49df-84b2-18693013994a",
   "metadata": {},
   "source": [
    "## Normalización de variables numéricas\n",
    "**Motivo:**\n",
    "Permite comparar métricas en una escala similar y facilita la interpretación gráfica."
   ]
  },
  {
   "cell_type": "code",
   "execution_count": 29,
   "id": "a6383647-f0b3-4997-a2ca-3b5170e40da1",
   "metadata": {},
   "outputs": [],
   "source": [
    "from sklearn.preprocessing import StandardScaler\n",
    "\n",
    "scaler = StandardScaler()\n",
    "df[[\"MonthlyCharges\", \"TotalCharges\", \"AvgMonthlySpend\"]] = scaler.fit_transform(df[[\"MonthlyCharges\", \"TotalCharges\", \"AvgMonthlySpend\"]])"
   ]
  },
  {
   "cell_type": "markdown",
   "id": "4396d4d8-5fbd-46c8-b2d6-ac20c1ef1b8f",
   "metadata": {},
   "source": [
    "## Guardado de datos transformados\n",
    "Finalmente, guardamos los datos en MySQL para la fase de carga y visualización.\n",
    "\n",
    "(Por ahora solo planteado, se esta generando un CSV limpio y en la proxima fase se implementa la carga)"
   ]
  },
  {
   "cell_type": "code",
   "execution_count": 32,
   "id": "dc1ced40-4ba0-412a-b06e-d23e6666302f",
   "metadata": {},
   "outputs": [],
   "source": [
    "df.to_csv(\"../data/telco_churn_clean.csv\", index=False)"
   ]
  },
  {
   "cell_type": "code",
   "execution_count": null,
   "id": "7126bfb9-044e-4132-934a-170e40181196",
   "metadata": {},
   "outputs": [],
   "source": []
  }
 ],
 "metadata": {
  "kernelspec": {
   "display_name": "Python 3 (ipykernel)",
   "language": "python",
   "name": "python3"
  },
  "language_info": {
   "codemirror_mode": {
    "name": "ipython",
    "version": 3
   },
   "file_extension": ".py",
   "mimetype": "text/x-python",
   "name": "python",
   "nbconvert_exporter": "python",
   "pygments_lexer": "ipython3",
   "version": "3.12.0"
  }
 },
 "nbformat": 4,
 "nbformat_minor": 5
}
